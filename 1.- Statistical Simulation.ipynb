{
  "nbformat": 4,
  "nbformat_minor": 0,
  "metadata": {
    "colab": {
      "provenance": [],
      "collapsed_sections": [],
      "authorship_tag": "ABX9TyP9DlhtE27IoYSGp8dwHUNo",
      "include_colab_link": true
    },
    "kernelspec": {
      "name": "python3",
      "display_name": "Python 3"
    },
    "language_info": {
      "name": "python"
    }
  },
  "cells": [
    {
      "cell_type": "markdown",
      "metadata": {
        "id": "view-in-github",
        "colab_type": "text"
      },
      "source": [
        "<a href=\"https://colab.research.google.com/github/JulioCesarMS/Statistical-Simulation/blob/main/1.-%20Statistical%20Simulation.ipynb\" target=\"_parent\"><img src=\"https://colab.research.google.com/assets/colab-badge.svg\" alt=\"Open In Colab\"/></a>"
      ]
    },
    {
      "cell_type": "markdown",
      "source": [
        "# **Generación de  Números aleatorios**"
      ],
      "metadata": {
        "id": "KbMwvp39riTa"
      }
    },
    {
      "cell_type": "markdown",
      "source": [
        "## Generador congruencial lineal.\n",
        "\n",
        "El generador congruencial lineal (LCG) es uno de los métodos más comunes para generar números aleatorios. Su aplicación resulta sencilla de entender y aplicar. \n",
        "\n",
        "\\begin{equation}\n",
        "x_{k+1} = (a\\times x_k + c) \\ mod \\ m\n",
        "\\end{equation}\n",
        "\n",
        "donde:\n",
        "\n",
        "- $a$ : es un entero no negativo,\n",
        "- $c$ : es un entero no negativo,\n",
        "- $m$ : un entero no negativo,\n",
        "- $x_0$ : el valor inicial."
      ],
      "metadata": {
        "id": "_PWVOqhl7Htc"
      }
    },
    {
      "cell_type": "code",
      "source": [
        "import numpy as np"
      ],
      "metadata": {
        "id": "CGhKy2GysndF"
      },
      "execution_count": null,
      "outputs": []
    },
    {
      "cell_type": "code",
      "source": [
        "def gcl(x, a, c, m, n):\n",
        "  xk = [x]\n",
        "  for i in range(1,n):\n",
        "    xk.append(np.mod((a*xk[i-1]+c), m))\n",
        "\n",
        "  return xk[1:]"
      ],
      "metadata": {
        "id": "lqy3VBRQtI5V"
      },
      "execution_count": null,
      "outputs": []
    },
    {
      "cell_type": "code",
      "source": [
        "gcl(x=3, a = 2, c = 4, m = 5, n=17)"
      ],
      "metadata": {
        "colab": {
          "base_uri": "https://localhost:8080/"
        },
        "id": "JkPNlWxJt0A3",
        "outputId": "b623ed5b-775e-4acf-ea93-572442826716"
      },
      "execution_count": null,
      "outputs": [
        {
          "output_type": "execute_result",
          "data": {
            "text/plain": [
              "[0, 4, 2, 3, 0, 4, 2, 3, 0, 4, 2, 3, 0, 4, 2, 3]"
            ]
          },
          "metadata": {},
          "execution_count": 9
        }
      ]
    },
    {
      "cell_type": "markdown",
      "source": [
        "## Números aleatorios con distribución uniforme"
      ],
      "metadata": {
        "id": "U12jn2crvIin"
      }
    },
    {
      "cell_type": "markdown",
      "source": [
        "Una secuencia de números uniformemente distribuidos entre $[0, 1]$ puede obtenerse mediante la siguiente fórmula:\n",
        "\n",
        "\\begin{equation}\n",
        "U_n = \\frac{X_n}{m}\n",
        "\\end{equation}\n",
        "\n",
        "La secuencia obtenida es periódica, con un período menor o igual a $m$. Si el período es $m$, entonces tiene un período completo. Esto ocurre cuando se cumplen las siguientes condiciones:\n",
        "\n",
        "- Si $m$ y $c$ tienen números primos\n",
        "- Si $m$ es divisible por un número primo, $b$, por lo que también debe ser divisible.\n",
        "- Si $m$ es divisible por $4$, entonces $a-1$ debe ser también divisible por $4$.\n",
        "\n",
        "\n",
        "Un ejemplo de generador multiplicativo muy utilizado en los ordenadores de $32$ bits es el generador de **Learmonth-Lewis**. Se trata de un generador en el que los parámetros asumen los siguientes valores:\n",
        "\n",
        "- a = $75$\n",
        "- c = $0$\n",
        "- m = $2^{31} – 1$"
      ],
      "metadata": {
        "id": "P77wPRvsK0B9"
      }
    },
    {
      "cell_type": "code",
      "source": [
        "for i in range(1,100):\n",
        "x= np.mod((a*x+c),m)\n",
        "u = x/m\n",
        "print(u)"
      ],
      "metadata": {
        "id": "BKaipQFaukVy"
      },
      "execution_count": null,
      "outputs": []
    },
    {
      "cell_type": "code",
      "source": [
        "def LearmonthLewisGenerator(n):\n",
        "  a = 75\n",
        "  c = 0\n",
        "  m = 2**31 - 1\n",
        "  x = 0.1\n",
        "  u = [] \n",
        "  for i in range(1,n):\n",
        "    x = np.mod((a*x+c), m)\n",
        "    u.append(x/m)\n",
        "\n",
        "  return u"
      ],
      "metadata": {
        "id": "fuZkCAEXMGOQ"
      },
      "execution_count": null,
      "outputs": []
    },
    {
      "cell_type": "code",
      "source": [
        "gen = LearmonthLewisGenerator(n=10)\n",
        "gen"
      ],
      "metadata": {
        "colab": {
          "base_uri": "https://localhost:8080/"
        },
        "id": "wv680-0hMtp8",
        "outputId": "a54c9e83-471c-47bc-ad5d-79276832cb92"
      },
      "execution_count": null,
      "outputs": [
        {
          "output_type": "execute_result",
          "data": {
            "text/plain": [
              "[3.4924596564343477e-09,\n",
              " 2.619344742325761e-07,\n",
              " 1.9645085567443206e-05,\n",
              " 0.0014733814175582405,\n",
              " 0.11050360631686804,\n",
              " 0.28777047376510245,\n",
              " 0.5827855323826827,\n",
              " 0.708914928701201,\n",
              " 0.1686196525900716]"
            ]
          },
          "metadata": {},
          "execution_count": 17
        }
      ]
    },
    {
      "cell_type": "markdown",
      "source": [
        "## Generador de Fibonacci con retraso "
      ],
      "metadata": {
        "id": "bSnIgHVCNk53"
      }
    },
    {
      "cell_type": "markdown",
      "source": [
        "El algoritmo de Fibonacci con retraso para generar números pseudoaleatorios surge del intento de generalizar el método congruecial lineal.\n",
        "\n",
        "Una de las técnicas desarrolladas consiste en hacer que $X_{n + 1}$ dependa de los dos valores anteriores, $X_n$ y $X_{n - 1}$.\n",
        "\n",
        "El generador más simple de este tipo es la secuencia de Fibonacci representada por la siguiente ecuación:\n",
        "\n",
        "\\begin{equation}\n",
        "𝑋_{n+1} = (X_{n} + 𝑋_{𝑛−1}) \\ mod \\ m\n",
        "\\end{equation}\n",
        "\n",
        "Una mejora fue propuesta por Mitchell y Moore:\n",
        "\n",
        "\\begin{equation}\n",
        "𝑋_{n} = (X_{n-24} + 𝑋_{𝑛−55}) \\ mod \\ m, \\ \\ n \\geq 55\n",
        "\\end{equation}\n",
        "\n",
        "donde los números $24$ y $55$ se denominan rezagos y la secuencia $X_n$ y recibe el nombre de **Lagged Fibonacci Generator (LFG)**."
      ],
      "metadata": {
        "id": "l2yYfZTaNxRI"
      }
    },
    {
      "cell_type": "code",
      "source": [
        "def LFB(x0, x1, n):\n",
        "  x = [x0, x1]\n",
        "  m = 2**32\n",
        "  for i in range(1,n):\n",
        "    x.append(np.mod((x[i-1]+x[i]), m))\n",
        "\n",
        "  return x[2:]"
      ],
      "metadata": {
        "id": "vrd3aeOjNdDn"
      },
      "execution_count": null,
      "outputs": []
    },
    {
      "cell_type": "code",
      "source": [
        "lfb = LFB(x0=1, x1=1, n=10)\n",
        "lfb"
      ],
      "metadata": {
        "colab": {
          "base_uri": "https://localhost:8080/"
        },
        "id": "ZU39jHovQukx",
        "outputId": "4b74e0d1-e308-48c7-e9fd-18ef2b9c9bfb"
      },
      "execution_count": null,
      "outputs": [
        {
          "output_type": "execute_result",
          "data": {
            "text/plain": [
              "[2, 3, 5, 8, 13, 21, 34, 55, 89]"
            ]
          },
          "metadata": {},
          "execution_count": 47
        }
      ]
    }
  ]
}